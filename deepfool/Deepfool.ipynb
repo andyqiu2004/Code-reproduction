{
 "cells": [
  {
   "cell_type": "code",
   "execution_count": 1,
   "id": "16faca91",
   "metadata": {},
   "outputs": [
    {
     "name": "stdout",
     "output_type": "stream",
     "text": [
      "Downloading http://yann.lecun.com/exdb/mnist/train-images-idx3-ubyte.gz\n",
      "Downloading http://yann.lecun.com/exdb/mnist/train-images-idx3-ubyte.gz to ../data\\MNIST\\raw\\train-images-idx3-ubyte.gz\n"
     ]
    },
    {
     "name": "stderr",
     "output_type": "stream",
     "text": [
      "100%|█████████████████████████████████████████████████████████████████████████████████| 9912422/9912422 [00:01<00:00, 8698302.47it/s]\n"
     ]
    },
    {
     "name": "stdout",
     "output_type": "stream",
     "text": [
      "Extracting ../data\\MNIST\\raw\\train-images-idx3-ubyte.gz to ../data\\MNIST\\raw\n",
      "\n",
      "Downloading http://yann.lecun.com/exdb/mnist/train-labels-idx1-ubyte.gz\n",
      "Downloading http://yann.lecun.com/exdb/mnist/train-labels-idx1-ubyte.gz to ../data\\MNIST\\raw\\train-labels-idx1-ubyte.gz\n"
     ]
    },
    {
     "name": "stderr",
     "output_type": "stream",
     "text": [
      "100%|██████████████████████████████████████████████████████████████████████████████████████| 28881/28881 [00:00<00:00, 688681.85it/s]\n"
     ]
    },
    {
     "name": "stdout",
     "output_type": "stream",
     "text": [
      "Extracting ../data\\MNIST\\raw\\train-labels-idx1-ubyte.gz to ../data\\MNIST\\raw\n",
      "\n",
      "Downloading http://yann.lecun.com/exdb/mnist/t10k-images-idx3-ubyte.gz\n",
      "Downloading http://yann.lecun.com/exdb/mnist/t10k-images-idx3-ubyte.gz to ../data\\MNIST\\raw\\t10k-images-idx3-ubyte.gz\n"
     ]
    },
    {
     "name": "stderr",
     "output_type": "stream",
     "text": [
      "100%|█████████████████████████████████████████████████████████████████████████████████| 1648877/1648877 [00:00<00:00, 5710030.11it/s]\n"
     ]
    },
    {
     "name": "stdout",
     "output_type": "stream",
     "text": [
      "Extracting ../data\\MNIST\\raw\\t10k-images-idx3-ubyte.gz to ../data\\MNIST\\raw\n",
      "\n",
      "Downloading http://yann.lecun.com/exdb/mnist/t10k-labels-idx1-ubyte.gz\n",
      "Downloading http://yann.lecun.com/exdb/mnist/t10k-labels-idx1-ubyte.gz to ../data\\MNIST\\raw\\t10k-labels-idx1-ubyte.gz\n"
     ]
    },
    {
     "name": "stderr",
     "output_type": "stream",
     "text": [
      "100%|████████████████████████████████████████████████████████████████████████████████████████████████████| 4542/4542 [00:00<?, ?it/s]"
     ]
    },
    {
     "name": "stdout",
     "output_type": "stream",
     "text": [
      "Extracting ../data\\MNIST\\raw\\t10k-labels-idx1-ubyte.gz to ../data\\MNIST\\raw\n",
      "\n",
      "Net(\n",
      "  (conv1): Conv2d(1, 10, kernel_size=(5, 5), stride=(1, 1))\n",
      "  (conv2): Conv2d(10, 20, kernel_size=(5, 5), stride=(1, 1))\n",
      "  (conv2_drop): Dropout2d(p=0.5, inplace=False)\n",
      "  (fc1): Linear(in_features=320, out_features=50, bias=True)\n",
      "  (fc2): Linear(in_features=50, out_features=10, bias=True)\n",
      ")\n"
     ]
    },
    {
     "name": "stderr",
     "output_type": "stream",
     "text": [
      "\n"
     ]
    }
   ],
   "source": [
    "from __future__ import print_function\n",
    "import torch\n",
    "import torch.nn as nn\n",
    "import torch.nn.functional as F\n",
    "import torch.optim as optim\n",
    "from torchvision import datasets, transforms\n",
    "import numpy as np\n",
    "import matplotlib.pyplot as plt\n",
    "from tqdm import tqdm\n",
    "\n",
    "# 加载mnist数据集\n",
    "test_loader = torch.utils.data.DataLoader(\n",
    "    datasets.MNIST('../data', train=False, download=True, transform=transforms.Compose([\n",
    "            transforms.ToTensor(),\n",
    "            ])),\n",
    "        batch_size=10, shuffle=True)\n",
    "train_loader = torch.utils.data.DataLoader(\n",
    "    datasets.MNIST('../data', train=True, download=True, transform=transforms.Compose([\n",
    "            transforms.ToTensor(),\n",
    "            ])),\n",
    "        batch_size=10, shuffle=True)\n",
    "\n",
    "# 超参数设置\n",
    "batch_size = 10\n",
    "epoch = 5\n",
    "learning_rate = 0.001\n",
    "# 设置扰动最大就是50\n",
    "epsilon = 5/256\n",
    "iter = 10\n",
    "# 生成对抗样本的个数\n",
    "adver_nums = 100\n",
    "\n",
    "# LeNet Model definition\n",
    "class Net(nn.Module):\n",
    "    def __init__(self):\n",
    "        super(Net, self).__init__()\n",
    "        self.conv1 = nn.Conv2d(1, 10, kernel_size=5)\n",
    "        self.conv2 = nn.Conv2d(10, 20, kernel_size=5)\n",
    "        self.conv2_drop = nn.Dropout2d()\n",
    "        self.fc1 = nn.Linear(320, 50)\n",
    "        self.fc2 = nn.Linear(50, 10)\n",
    "\n",
    "    def forward(self, x):\n",
    "        x = F.relu(F.max_pool2d(self.conv1(x), 2))\n",
    "        x = F.relu(F.max_pool2d(self.conv2_drop(self.conv2(x)), 2))\n",
    "        x = x.view(-1, 320)\n",
    "        x = F.relu(self.fc1(x))\n",
    "        x = F.dropout(x, training=self.training)\n",
    "        x = self.fc2(x)\n",
    "        return F.log_softmax(x, dim=1)\n",
    "\n",
    "# 选择设备\n",
    "device = torch.device(\"cuda\" if (torch.cuda.is_available()) else \"cpu\")\n",
    "\n",
    "# 初始化网络，并定义优化器\n",
    "simple_model = Net().to(device)\n",
    "optimizer1 = torch.optim.SGD(simple_model.parameters(),lr = learning_rate,momentum=0.9)\n",
    "print (simple_model)"
   ]
  },
  {
   "cell_type": "code",
   "execution_count": 2,
   "id": "cd265169",
   "metadata": {},
   "outputs": [
    {
     "name": "stderr",
     "output_type": "stream",
     "text": [
      "25it [00:05,  6.45it/s]"
     ]
    },
    {
     "name": "stdout",
     "output_type": "stream",
     "text": [
      "第0个数据，loss值等于2.3108458518981934\n"
     ]
    },
    {
     "name": "stderr",
     "output_type": "stream",
     "text": [
      "1045it [00:08, 463.12it/s]"
     ]
    },
    {
     "name": "stdout",
     "output_type": "stream",
     "text": [
      "第1000个数据，loss值等于1.4178889989852905\n"
     ]
    },
    {
     "name": "stderr",
     "output_type": "stream",
     "text": [
      "2040it [00:10, 469.53it/s]"
     ]
    },
    {
     "name": "stdout",
     "output_type": "stream",
     "text": [
      "第2000个数据，loss值等于0.36330536007881165\n"
     ]
    },
    {
     "name": "stderr",
     "output_type": "stream",
     "text": [
      "3059it [00:13, 384.48it/s]"
     ]
    },
    {
     "name": "stdout",
     "output_type": "stream",
     "text": [
      "第3000个数据，loss值等于0.4649326801300049\n"
     ]
    },
    {
     "name": "stderr",
     "output_type": "stream",
     "text": [
      "4070it [00:15, 382.71it/s]"
     ]
    },
    {
     "name": "stdout",
     "output_type": "stream",
     "text": [
      "第4000个数据，loss值等于0.43273481726646423\n"
     ]
    },
    {
     "name": "stderr",
     "output_type": "stream",
     "text": [
      "5066it [00:18, 455.61it/s]"
     ]
    },
    {
     "name": "stdout",
     "output_type": "stream",
     "text": [
      "第5000个数据，loss值等于0.23465128242969513\n"
     ]
    },
    {
     "name": "stderr",
     "output_type": "stream",
     "text": [
      "6000it [00:20, 292.60it/s]\n",
      "41it [00:00, 407.68it/s]"
     ]
    },
    {
     "name": "stdout",
     "output_type": "stream",
     "text": [
      "第0个数据，loss值等于0.1489757001399994\n"
     ]
    },
    {
     "name": "stderr",
     "output_type": "stream",
     "text": [
      "1084it [00:02, 436.92it/s]"
     ]
    },
    {
     "name": "stdout",
     "output_type": "stream",
     "text": [
      "第1000个数据，loss值等于0.8151337504386902\n"
     ]
    },
    {
     "name": "stderr",
     "output_type": "stream",
     "text": [
      "2073it [00:04, 418.45it/s]"
     ]
    },
    {
     "name": "stdout",
     "output_type": "stream",
     "text": [
      "第2000个数据，loss值等于0.06031598523259163\n"
     ]
    },
    {
     "name": "stderr",
     "output_type": "stream",
     "text": [
      "3082it [00:07, 405.14it/s]"
     ]
    },
    {
     "name": "stdout",
     "output_type": "stream",
     "text": [
      "第3000个数据，loss值等于0.0277008805423975\n"
     ]
    },
    {
     "name": "stderr",
     "output_type": "stream",
     "text": [
      "4077it [00:10, 433.43it/s]"
     ]
    },
    {
     "name": "stdout",
     "output_type": "stream",
     "text": [
      "第4000个数据，loss值等于0.22981207072734833\n"
     ]
    },
    {
     "name": "stderr",
     "output_type": "stream",
     "text": [
      "5074it [00:12, 421.73it/s]"
     ]
    },
    {
     "name": "stdout",
     "output_type": "stream",
     "text": [
      "第5000个数据，loss值等于0.7503430247306824\n"
     ]
    },
    {
     "name": "stderr",
     "output_type": "stream",
     "text": [
      "6000it [00:15, 393.84it/s]\n",
      "44it [00:00, 436.58it/s]"
     ]
    },
    {
     "name": "stdout",
     "output_type": "stream",
     "text": [
      "第0个数据，loss值等于0.017290553078055382\n"
     ]
    },
    {
     "name": "stderr",
     "output_type": "stream",
     "text": [
      "1071it [00:02, 375.52it/s]"
     ]
    },
    {
     "name": "stdout",
     "output_type": "stream",
     "text": [
      "第1000个数据，loss值等于0.13427135348320007\n"
     ]
    },
    {
     "name": "stderr",
     "output_type": "stream",
     "text": [
      "2040it [00:05, 403.55it/s]"
     ]
    },
    {
     "name": "stdout",
     "output_type": "stream",
     "text": [
      "第2000个数据，loss值等于0.3412632346153259\n"
     ]
    },
    {
     "name": "stderr",
     "output_type": "stream",
     "text": [
      "3062it [00:08, 368.63it/s]"
     ]
    },
    {
     "name": "stdout",
     "output_type": "stream",
     "text": [
      "第3000个数据，loss值等于0.5854917168617249\n"
     ]
    },
    {
     "name": "stderr",
     "output_type": "stream",
     "text": [
      "4057it [00:10, 407.01it/s]"
     ]
    },
    {
     "name": "stdout",
     "output_type": "stream",
     "text": [
      "第4000个数据，loss值等于0.16378754377365112\n"
     ]
    },
    {
     "name": "stderr",
     "output_type": "stream",
     "text": [
      "5047it [00:12, 374.82it/s]"
     ]
    },
    {
     "name": "stdout",
     "output_type": "stream",
     "text": [
      "第5000个数据，loss值等于0.221134752035141\n"
     ]
    },
    {
     "name": "stderr",
     "output_type": "stream",
     "text": [
      "6000it [00:15, 393.83it/s]\n",
      "78it [00:00, 395.36it/s]"
     ]
    },
    {
     "name": "stdout",
     "output_type": "stream",
     "text": [
      "第0个数据，loss值等于0.08660111576318741\n"
     ]
    },
    {
     "name": "stderr",
     "output_type": "stream",
     "text": [
      "1071it [00:02, 503.60it/s]"
     ]
    },
    {
     "name": "stdout",
     "output_type": "stream",
     "text": [
      "第1000个数据，loss值等于0.5789746046066284\n"
     ]
    },
    {
     "name": "stderr",
     "output_type": "stream",
     "text": [
      "2070it [00:04, 462.56it/s]"
     ]
    },
    {
     "name": "stdout",
     "output_type": "stream",
     "text": [
      "第2000个数据，loss值等于0.06485167890787125\n"
     ]
    },
    {
     "name": "stderr",
     "output_type": "stream",
     "text": [
      "3051it [00:06, 412.27it/s]"
     ]
    },
    {
     "name": "stdout",
     "output_type": "stream",
     "text": [
      "第3000个数据，loss值等于0.1014094352722168\n"
     ]
    },
    {
     "name": "stderr",
     "output_type": "stream",
     "text": [
      "4082it [00:09, 481.79it/s]"
     ]
    },
    {
     "name": "stdout",
     "output_type": "stream",
     "text": [
      "第4000个数据，loss值等于0.11686824262142181\n"
     ]
    },
    {
     "name": "stderr",
     "output_type": "stream",
     "text": [
      "5079it [00:11, 456.04it/s]"
     ]
    },
    {
     "name": "stdout",
     "output_type": "stream",
     "text": [
      "第5000个数据，loss值等于1.573833703994751\n"
     ]
    },
    {
     "name": "stderr",
     "output_type": "stream",
     "text": [
      "6000it [00:13, 458.69it/s]\n",
      "39it [00:00, 369.87it/s]"
     ]
    },
    {
     "name": "stdout",
     "output_type": "stream",
     "text": [
      "第0个数据，loss值等于0.8652453422546387\n"
     ]
    },
    {
     "name": "stderr",
     "output_type": "stream",
     "text": [
      "1048it [00:02, 494.21it/s]"
     ]
    },
    {
     "name": "stdout",
     "output_type": "stream",
     "text": [
      "第1000个数据，loss值等于0.011843432672321796\n"
     ]
    },
    {
     "name": "stderr",
     "output_type": "stream",
     "text": [
      "2070it [00:04, 485.26it/s]"
     ]
    },
    {
     "name": "stdout",
     "output_type": "stream",
     "text": [
      "第2000个数据，loss值等于0.7207215428352356\n"
     ]
    },
    {
     "name": "stderr",
     "output_type": "stream",
     "text": [
      "3092it [00:06, 508.11it/s]"
     ]
    },
    {
     "name": "stdout",
     "output_type": "stream",
     "text": [
      "第3000个数据，loss值等于0.13809837400913239\n"
     ]
    },
    {
     "name": "stderr",
     "output_type": "stream",
     "text": [
      "4049it [00:08, 391.82it/s]"
     ]
    },
    {
     "name": "stdout",
     "output_type": "stream",
     "text": [
      "第4000个数据，loss值等于0.0931849330663681\n"
     ]
    },
    {
     "name": "stderr",
     "output_type": "stream",
     "text": [
      "5034it [00:11, 391.29it/s]"
     ]
    },
    {
     "name": "stdout",
     "output_type": "stream",
     "text": [
      "第5000个数据，loss值等于0.19852998852729797\n"
     ]
    },
    {
     "name": "stderr",
     "output_type": "stream",
     "text": [
      "6000it [00:13, 438.77it/s]\n",
      "1000it [00:01, 687.00it/s]"
     ]
    },
    {
     "name": "stdout",
     "output_type": "stream",
     "text": [
      "tensor(9799, device='cuda:0')\n",
      "\n",
      "simple model correct rate is 0.9799000024795532\n"
     ]
    },
    {
     "name": "stderr",
     "output_type": "stream",
     "text": [
      "\n"
     ]
    }
   ],
   "source": [
    "# 训练模型\n",
    "def train(model,optimizer):\n",
    "  for i in range(epoch):\n",
    "    for j,(data,target) in tqdm(enumerate(train_loader)):\n",
    "      data = data.to(device)\n",
    "      target = target.to(device)\n",
    "      logit = model(data)\n",
    "      loss = F.nll_loss(logit,target)\n",
    "      model.zero_grad()\n",
    "      # 如下：因为其中的loss是单个tensor就不能用加上一个tensor的维度限制\n",
    "      loss.backward()\n",
    "      # 如下有两种你形式表达，一种是原生，一种是使用optim优化函数直接更新参数\n",
    "      # 为什么原生的训练方式没有效果？？？代表参数没有更新，就离谱。\n",
    "      # 下面的detach与requires_grad_有讲究哦，终于明白了；但是为什么下面代码不能work还是没搞懂\n",
    "      # for params in model.parameters():\n",
    "      #   params = (params - learning_rate * params.grad).detach().requires_grad_()\n",
    "      optimizer.step()\n",
    "      if j % 1000 == 0:\n",
    "        print ('第{}个数据，loss值等于{}'.format(j,loss))\n",
    "train(simple_model,optimizer1)\n",
    "\n",
    "# 罪魁祸首就是你，没有固定住dropout层的神经元怎么能做测试呢？你模型都没固定，那不是一个输入，会有多种输出值\n",
    "# 真是被你害死了！！！\n",
    "simple_model.eval()\n",
    "# 模型测试\n",
    "def test(model,name):\n",
    "  correct_num = torch.tensor(0).to(device)\n",
    "  for j,(data,target) in tqdm(enumerate(test_loader)):\n",
    "    data = data.to(device)\n",
    "    target = target.to(device)\n",
    "    logit = model(data)\n",
    "    pred = logit.max(1)[1]\n",
    "    num = torch.sum(pred==target)\n",
    "    correct_num = correct_num + num\n",
    "  print (correct_num)\n",
    "  print ('\\n{} correct rate is {}'.format(name,correct_num/10000))\n",
    "test(simple_model,'simple model')"
   ]
  },
  {
   "cell_type": "code",
   "execution_count": 3,
   "id": "83705f13",
   "metadata": {},
   "outputs": [
    {
     "name": "stdout",
     "output_type": "stream",
     "text": [
      "torch.Size([100, 1, 28, 28])\n",
      "torch.Size([100, 1, 28, 28])\n"
     ]
    }
   ],
   "source": [
    "import numpy as np\n",
    "from torch.autograd import Variable\n",
    "import torch as torch\n",
    "import copy\n",
    "# 下面导入的类是很早版本的，现在版本已经没有了\n",
    "# from torch.autograd.gradcheck import zero_gradients\n",
    "\n",
    "\n",
    "def deepfool(image, net, num_classes=10, overshoot=0.02, max_iter=100):\n",
    "\n",
    "    \"\"\"\n",
    "       :param image: Image of size HxWx3\n",
    "       :param net: network (input: images, output: values of activation **BEFORE** softmax).\n",
    "       :param num_classes: num_classes (limits the number of classes to test against, by default = 10)\n",
    "       :param overshoot: used as a termination criterion to prevent vanishing updates (default = 0.02).\n",
    "       :param max_iter: maximum number of iterations for deepfool (default = 50)\n",
    "       :return: minimal perturbation that fools the classifier, number of iterations that it required, new estimated_label and perturbed image\n",
    "    \"\"\"\n",
    "    is_cuda = torch.cuda.is_available()\n",
    "\n",
    "    if is_cuda:\n",
    "        # print(\"Using GPU\")\n",
    "        image = image.cuda()\n",
    "        net = net.cuda()\n",
    "\n",
    "\n",
    "    f_image = net.forward(Variable(image[None, :, :, :], requires_grad=True)).data.cpu().numpy().flatten()\n",
    "    I = (np.array(f_image)).flatten().argsort()[::-1]\n",
    "\n",
    "    I = I[0:num_classes]\n",
    "    label = I[0]\n",
    "\n",
    "    input_shape = image.cpu().numpy().shape\n",
    "    pert_image = copy.deepcopy(image)\n",
    "    w = np.zeros(input_shape)\n",
    "    r_tot = np.zeros(input_shape)\n",
    "\n",
    "    loop_i = 0\n",
    "\n",
    "    x = Variable(pert_image[None, :], requires_grad=True)\n",
    "    fs = net.forward(x)\n",
    "    fs_list = [fs[0,I[k]] for k in range(num_classes)]\n",
    "    k_i = label\n",
    "\n",
    "    while k_i == label and loop_i < max_iter:\n",
    "\n",
    "        pert = np.inf\n",
    "        fs[0, I[0]].backward(retain_graph=True)\n",
    "        grad_orig = x.grad.data.cpu().numpy().copy()\n",
    "\n",
    "        for k in range(1, num_classes):\n",
    "            if x.grad is not None:\n",
    "              x.grad.zero_()\n",
    "\n",
    "            fs[0, I[k]].backward(retain_graph=True)\n",
    "            cur_grad = x.grad.data.cpu().numpy().copy()\n",
    "\n",
    "            # set new w_k and new f_k\n",
    "            w_k = cur_grad - grad_orig\n",
    "            f_k = (fs[0, I[k]] - fs[0, I[0]]).data.cpu().numpy()\n",
    "\n",
    "            pert_k = abs(f_k)/np.linalg.norm(w_k.flatten())\n",
    "\n",
    "            # determine which w_k to use\n",
    "            if pert_k < pert:\n",
    "                pert = pert_k\n",
    "                w = w_k\n",
    "\n",
    "        # compute r_i and r_tot\n",
    "        # Added 1e-4 for numerical stability\n",
    "        r_i =  (pert+1e-4) * w / np.linalg.norm(w)\n",
    "        r_tot = np.float32(r_tot + r_i)\n",
    "\n",
    "        if is_cuda:\n",
    "            pert_image = image + (1+overshoot)*torch.from_numpy(r_tot).cuda()\n",
    "        else:\n",
    "            pert_image = image + (1+overshoot)*torch.from_numpy(r_tot)\n",
    "\n",
    "        x = Variable(pert_image, requires_grad=True)\n",
    "        fs = net.forward(x)\n",
    "        k_i = np.argmax(fs.data.cpu().numpy().flatten())\n",
    "\n",
    "        loop_i += 1\n",
    "    # print (net.forward(x).data.cpu().numpy().flatten())\n",
    "    # print (loop_i)\n",
    "    # print ('k_i equal to {}'.format(k_i))\n",
    "    # print ('target equal to {}'.format(label))\n",
    "    r_tot = (1+overshoot)*r_tot\n",
    "\n",
    "    return r_tot, loop_i, label, k_i, pert_image\n",
    "\n",
    "\n",
    "adver_nums = 100\n",
    "# 这几个变量主要用于之后的测试以及可视化\n",
    "adver_example_by_FOOL = torch.zeros((batch_size,1,28,28)).to(device)\n",
    "adver_target = torch.zeros(batch_size).to(device)\n",
    "clean_example = torch.zeros((batch_size,1,28,28)).to(device)\n",
    "clean_target = torch.zeros(batch_size).to(device)\n",
    "# 从test_loader中选取1000个干净样本，使用deepfool来生成对抗样本\n",
    "for i,(data,target) in enumerate(test_loader):\n",
    "  if i >= adver_nums/batch_size :\n",
    "    break\n",
    "  if i == 0:\n",
    "    clean_example = data\n",
    "  else:\n",
    "    clean_example = torch.cat((clean_example,data),dim = 0)\n",
    "    \n",
    "  cur_adver_example_by_FOOL = torch.zeros_like(data).to(device)\n",
    "\n",
    "  for j in range(batch_size):\n",
    "    r_rot,loop_i,label,k_i,pert_image = deepfool(data[j],simple_model)\n",
    "    cur_adver_example_by_FOOL[j] = pert_image\n",
    "  \n",
    "  # 使用对抗样本攻击VGG模型\n",
    "  pred = simple_model(cur_adver_example_by_FOOL).max(1)[1]\n",
    "  # print (simple_model(cur_adver_example_by_FOOL).max(1)[1])\n",
    "  if i == 0:\n",
    "    adver_example_by_FOOL = cur_adver_example_by_FOOL\n",
    "    clean_target = target\n",
    "    adver_target = pred\n",
    "  else:\n",
    "    adver_example_by_FOOL = torch.cat((adver_example_by_FOOL , cur_adver_example_by_FOOL), dim = 0)\n",
    "    clean_target = torch.cat((clean_target,target),dim = 0)\n",
    "    adver_target = torch.cat((adver_target,pred),dim = 0)\n",
    "\n",
    "print (adver_example_by_FOOL.shape)\n",
    "# print (adver_target)\n",
    "print (clean_example.shape)\n",
    "# print (clean_target)\n"
   ]
  },
  {
   "cell_type": "code",
   "execution_count": 4,
   "id": "807e2278",
   "metadata": {},
   "outputs": [
    {
     "name": "stderr",
     "output_type": "stream",
     "text": [
      "10it [00:00, 593.82it/s]"
     ]
    },
    {
     "name": "stdout",
     "output_type": "stream",
     "text": [
      "tensor(5, device='cuda:0')\n",
      "\n",
      "simple model correct rate is 0.04999999701976776\n"
     ]
    },
    {
     "name": "stderr",
     "output_type": "stream",
     "text": [
      "\n"
     ]
    }
   ],
   "source": [
    "import torch.utils.data as Data\n",
    "def adver_attack_vgg(model,adver_example,target,name):\n",
    "  adver_dataset = Data.TensorDataset(adver_example, target)\n",
    "  loader = Data.DataLoader(\n",
    "    dataset=adver_dataset,      # 数据，封装进Data.TensorDataset()类的数据\n",
    "    batch_size=batch_size      # 每块的大小\n",
    "    )\n",
    "  correct_num = torch.tensor(0).to(device)\n",
    "  for j,(data,target) in tqdm(enumerate(loader)):\n",
    "    data = data.to(device)\n",
    "    target = target.to(device)\n",
    "    pred = model.forward(data).max(1)[1]\n",
    "    num = torch.sum(pred==target)\n",
    "    correct_num = correct_num + num\n",
    "  print (correct_num)\n",
    "  print ('\\n{} correct rate is {}'.format(name,correct_num/adver_nums))\n",
    "      \n",
    "adver_attack_vgg(simple_model,adver_example_by_FOOL,clean_target,'simple model')"
   ]
  },
  {
   "cell_type": "code",
   "execution_count": 5,
   "id": "a1455e1a",
   "metadata": {},
   "outputs": [
    {
     "data": {
      "image/png": "[encoded data removed]",
      "text/plain": [
       "<Figure size 2000x1000 with 50 Axes>"
      ]
     },
     "metadata": {},
     "output_type": "display_data"
    }
   ],
   "source": [
    "def plot_clean_and_adver(adver_example,adver_target,clean_example,clean_target):\n",
    "  n_cols = 5\n",
    "  n_rows = 5\n",
    "  cnt = 1\n",
    "  cnt1 = 1\n",
    "  plt.figure(figsize=(n_cols*4,n_rows*2))\n",
    "  for i in range(n_cols):\n",
    "    for j in range(n_rows):\n",
    "      plt.subplot(n_cols,n_rows*2,cnt1)\n",
    "      plt.xticks([])\n",
    "      plt.yticks([])\n",
    "      plt.title(\"{} -> {}\".format(clean_target[cnt], adver_target[cnt]))\n",
    "      plt.imshow(clean_example[cnt].reshape(28,28).to('cpu').detach().numpy(),cmap='gray')\n",
    "      plt.subplot(n_cols,n_rows*2,cnt1+1)\n",
    "      plt.xticks([])\n",
    "      plt.yticks([])\n",
    "      # plt.title(\"{} -> {}\".format(clean_target[cnt], adver_target[cnt]))\n",
    "      plt.imshow(adver_example[cnt].reshape(28,28).to('cpu').detach().numpy(),cmap='gray')\n",
    "      cnt = cnt + 1\n",
    "      cnt1 = cnt1 + 2\n",
    "\n",
    "plot_clean_and_adver(adver_example_by_FOOL,adver_target,clean_example,clean_target)\n"
   ]
  }
 ],
 "metadata": {
  "kernelspec": {
   "display_name": "Python [conda env:pytorch] *",
   "language": "python",
   "name": "conda-env-pytorch-py"
  },
  "language_info": {
   "codemirror_mode": {
    "name": "ipython",
    "version": 3
   },
   "file_extension": ".py",
   "mimetype": "text/x-python",
   "name": "python",
   "nbconvert_exporter": "python",
   "pygments_lexer": "ipython3",
   "version": "3.9.18"
  }
 },
 "nbformat": 4,
 "nbformat_minor": 5
}
